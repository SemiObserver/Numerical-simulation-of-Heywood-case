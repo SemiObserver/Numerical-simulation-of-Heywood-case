{
 "cells": [
  {
   "cell_type": "code",
   "execution_count": 8,
   "id": "6abc7b03",
   "metadata": {},
   "outputs": [],
   "source": [
    "import numpy as np\n",
    "from statsmodels.multivariate.factor import Factor\n",
    "from tqdm import tqdm\n",
    "from scipy.stats import ortho_group\n",
    "import matplotlib.pyplot as plt\n",
    "from matplotlib.pyplot import MultipleLocator\n",
    "def CFM_fill(cfm): # fill the whole coefficient matrix from diagnal parameters\n",
    "    n = len(cfm) + 1\n",
    "    CFM = np.ones((n,n))\n",
    "    for i in range(n-1):\n",
    "        for j in range(n-i-1):\n",
    "            CFM[i][i+j+1] = cfm[i][j]\n",
    "            CFM[i+j+1][i] = cfm[i][j]\n",
    "    return CFM\n",
    "def acc_var(lm, val): # input loading matrix and eigenvalues, give accumulate variance contribution\n",
    "    variance_explained = np.sum(lm**2, axis=0)/sum(val)\n",
    "    # Calculate the total variance\n",
    "    total_variance = np.sum(variance_explained)\n",
    "    # Calculate the variance contribution rate for each factor\n",
    "    variance_contribution_rate = np.cumsum(variance_explained)\n",
    "    print(\"\\nVariance Contribution Rate for Each Factor:\")\n",
    "    print((variance_contribution_rate).round(3))\n",
    "#     print(\"Total Variance Contribution Rate: \", end = '')\n",
    "#     print((total_variance*100).round(3), end = '%\\n')\n",
    "def norvar(x): # normalize variables to normal distribution\n",
    "    x = x - np.mean(x)\n",
    "    var = np.var(x)**0.5\n",
    "    return x/var\n",
    "def norm(m): # normalize variable matrix\n",
    "    return [norvar(i) for i in m]\n",
    "\n",
    "def covlize(m): # make covariance to be diagnal with 1\n",
    "    return [i*((len(i)-1)/len(i))**0.5 for i in m]\n",
    "def randeig(n):\n",
    "    np.random\n",
    "def datasimulator(cfm1, n):\n",
    "    # input eigenvalue, eigenvector(of the first row of a correlation coefficient matrix), and sample size n\n",
    "    x = np.random.normal(loc=0.0, scale=1.0, size=(len(cfm1) + 1, n))\n",
    "    var = norm(x)\n",
    "    # let variables be othogonal\n",
    "    for i in range(len(cfm1)):\n",
    "        j = i + 1\n",
    "        var[j] = var[j] - var[i] * np.corrcoef(var[i],var[j])[0][1]\n",
    "        var[j] = norvar(var[j])\n",
    "        var[j] = var[j] * np.sqrt(1 - cfm1[i]**2) + var[i] * cfm1[i]\n",
    "    var = np.array(var)\n",
    "    return var # return normal distributed data following given correlation coefficient matrix\n",
    "def heywood(cfm1, n):# heywood case with n samples\n",
    "    k = len(cfm1) + 1\n",
    "    hw = np.zeros(k)\n",
    "    simdata = datasimulator(cfm1, n)\n",
    "    CFM = np.corrcoef(simdata)\n",
    "#     print(CFM, simdata)\n",
    "    for i in range(k):\n",
    "        fa = Factor(endog = simdata.T, n_factor = i + 1, method = 'ml', smc = True)\n",
    "        fa_result = fa.fit()\n",
    "        # Get the factor loading matrix\n",
    "        loading_matrix = fa_result.loadings\n",
    "        res = CFM - loading_matrix @ loading_matrix.T\n",
    "        if min(np.diagonal(res)) < 0:\n",
    "            hw[i] = 1\n",
    "    return hw"
   ]
  },
  {
   "cell_type": "code",
   "execution_count": 2,
   "id": "d878e31f",
   "metadata": {},
   "outputs": [
    {
     "name": "stdout",
     "output_type": "stream",
     "text": [
      "[[-0.36252841 -0.50251451 -0.98878099  0.99856291 -0.92704933 -0.88585083]]\n"
     ]
    },
    {
     "data": {
      "text/plain": [
       "array([[ 1.        ,  0.23169561,  0.49316574, -0.10436146, -0.03051803,\n",
       "         0.0583154 ,  0.04774869],\n",
       "       [ 0.23169561,  1.        , -0.2088111 , -0.01131811, -0.12456719,\n",
       "        -0.46210426,  0.39755996],\n",
       "       [ 0.49316574, -0.2088111 ,  1.        , -0.15342739, -0.12308491,\n",
       "         0.38804903, -0.44243535],\n",
       "       [-0.10436146, -0.01131811, -0.15342739,  1.        , -0.43352453,\n",
       "         0.28368458,  0.25082421],\n",
       "       [-0.03051803, -0.12456719, -0.12308491, -0.43352453,  1.        ,\n",
       "         0.28871882,  0.39143134],\n",
       "       [ 0.0583154 , -0.46210426,  0.38804903,  0.28368458,  0.28871882,\n",
       "         1.        ,  0.13445717],\n",
       "       [ 0.04774869,  0.39755996, -0.44243535,  0.25082421,  0.39143134,\n",
       "         0.13445717,  1.        ]])"
      ]
     },
     "execution_count": 2,
     "metadata": {},
     "output_type": "execute_result"
    }
   ],
   "source": [
    "h = 1\n",
    "k = 7\n",
    "cfm1 = np.random.rand(h, k-1)*2-1\n",
    "print(cfm1)\n",
    "np.corrcoef(datasimulator(cfm1[0], 10))"
   ]
  },
  {
   "cell_type": "code",
   "execution_count": 34,
   "id": "b30051e7",
   "metadata": {},
   "outputs": [],
   "source": [
    "hl = [100, 100, 100, 100]\n",
    "nl = [25, 50, 25, 50]\n",
    "kl = [10, 10, 20, 20]\n",
    "# hl = [100, 100, 100, 100]\n",
    "# nl = [30, 60, 30, 60]\n",
    "# kl = [10, 10, 20, 20]"
   ]
  },
  {
   "cell_type": "code",
   "execution_count": 18,
   "id": "87a9ee7e",
   "metadata": {},
   "outputs": [
    {
     "name": "stderr",
     "output_type": "stream",
     "text": [
      "100%|████████████████████████████████████████████████████████████████████████████████| 100/100 [01:41<00:00,  1.02s/it]\n",
      "100%|████████████████████████████████████████████████████████████████████████████████| 100/100 [02:07<00:00,  1.28s/it]\n",
      "100%|████████████████████████████████████████████████████████████████████████████████| 100/100 [05:02<00:00,  3.02s/it]\n",
      "100%|████████████████████████████████████████████████████████████████████████████████| 100/100 [11:31<00:00,  6.91s/it]\n"
     ]
    }
   ],
   "source": [
    "for i in range(len(hl)):\n",
    "    h = hl[i]\n",
    "    n = nl[i]\n",
    "    k = kl[i]\n",
    "    cfm1 = np.random.rand(h, k-1)*2-1 # h rows (first of row correlation matrix)\n",
    "    hey_h = [0 for i in range(h)] # factorwise heywood case'\n",
    "    for i in tqdm(range(h), position=0):\n",
    "        hey_h[i] = heywood(cfm1[i], n)\n",
    "    np.savetxt('heywood'+str(h)+'×'+str(n)+'×'+str(k)+'.txt', np.array(hey_h), fmt='%f',delimiter=' ')"
   ]
  },
  {
   "cell_type": "code",
   "execution_count": 33,
   "id": "390fbd47",
   "metadata": {},
   "outputs": [
    {
     "name": "stdout",
     "output_type": "stream",
     "text": [
      "h = 100 , n = 60 , k = 20\n"
     ]
    },
    {
     "data": {
      "image/png": "[encoded data removed]",
      "text/plain": [
       "<Figure size 300x300 with 1 Axes>"
      ]
     },
     "metadata": {},
     "output_type": "display_data"
    },
    {
     "name": "stdout",
     "output_type": "stream",
     "text": [
      "samplewise heywood case ratio: 100.0%\n",
      "total heywood case ratio: 49.4%\n"
     ]
    }
   ],
   "source": [
    "index = 3\n",
    "h = 100\n",
    "n = nl[index]\n",
    "k = kl[index]\n",
    "hw = np.loadtxt('heywood'+str(h)+'×'+str(n)+'×'+str(k)+'.txt',delimiter=' ')\n",
    "hc = 0 # samplewise heywood case\n",
    "for i in hw:\n",
    "    if max(i) == 1:\n",
    "        hc += 1\n",
    "hp = np.sum(hw, axis = 0) # total heywood case \n",
    "plt.figure (figsize= (3, 3)) \n",
    "plt.bar(range(1, len(hp)+1), hp)\n",
    "plt.ylim(0, h)\n",
    "ax=plt.gca()\n",
    "ax.xaxis.set_major_locator(MultipleLocator(kl[index]/10))\n",
    "plt.grid()\n",
    "plt.xlabel('number of factors')\n",
    "plt.ylabel('factorwise heywood case')\n",
    "plt.savefig('heywood'+str(h)+'×'+str(n)+'×'+str(k)+'.png',dpi=500,bbox_inches = 'tight')\n",
    "print('h =', h, ', n =', n, ', k =', k)\n",
    "plt.show()\n",
    "print('samplewise heywood case ratio: %.1f'%(hc/h*100), end = '%\\n')\n",
    "print('total heywood case ratio: %.1f'%(sum(hp)/h/k*100), end = '%\\n')"
   ]
  },
  {
   "cell_type": "code",
   "execution_count": null,
   "id": "889d9358",
   "metadata": {},
   "outputs": [],
   "source": []
  }
 ],
 "metadata": {
  "kernelspec": {
   "display_name": "stat",
   "language": "python",
   "name": "stat"
  },
  "language_info": {
   "codemirror_mode": {
    "name": "ipython",
    "version": 3
   },
   "file_extension": ".py",
   "mimetype": "text/x-python",
   "name": "python",
   "nbconvert_exporter": "python",
   "pygments_lexer": "ipython3",
   "version": "3.11.9"
  }
 },
 "nbformat": 4,
 "nbformat_minor": 5
}
